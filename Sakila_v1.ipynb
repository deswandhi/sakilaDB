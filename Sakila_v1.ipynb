{
 "cells": [
  {
   "cell_type": "markdown",
   "metadata": {},
   "source": [
    "# Sakila DB Project\n",
    "\n",
    "`Sakila` is a sample database created by `MySql` [Link](https://dev.mysql.com/doc/sakila/en/)\n",
    "\n",
    "by \n",
    "Deswandhi\n",
    "deswandhi@gmail.com\n"
   ]
  },
  {
   "cell_type": "markdown",
   "metadata": {},
   "source": [
    "# 1. Data Warehouse"
   ]
  },
  {
   "cell_type": "markdown",
   "metadata": {},
   "source": [
    "## 1.1 Connect to local database"
   ]
  },
  {
   "cell_type": "code",
   "execution_count": 1,
   "metadata": {},
   "outputs": [],
   "source": [
    "# Import necessary modules\n",
    "import pandas as pd\n",
    "import pymysql\n",
    "\n",
    "# connect to the sakila database\n",
    "db_engine = pymysql.connect(host='localhost', user='deswandhi', password='@El13210017', database='sakila', use_unicode=True)\n"
   ]
  },
  {
   "cell_type": "markdown",
   "metadata": {},
   "source": [
    "## 1.2 Dimensional Model"
   ]
  },
  {
   "cell_type": "markdown",
   "metadata": {},
   "source": [
    "### 1.2.1 Fact"
   ]
  },
  {
   "cell_type": "code",
   "execution_count": 2,
   "metadata": {},
   "outputs": [
    {
     "name": "stdout",
     "output_type": "stream",
     "text": [
      "   customer_id  staff_id  film_id  store_id         rental_date  \\\n",
      "0          431         2        1         1 2005-07-08 19:03:15   \n",
      "1          518         1        1         1 2005-08-02 20:13:10   \n",
      "2          279         1        1         1 2005-08-21 21:27:43   \n",
      "3          411         1        1         1 2005-05-30 20:21:07   \n",
      "4          170         2        1         1 2005-06-17 20:24:00   \n",
      "\n",
      "          return_date  rental_duration  rental_id  \n",
      "0 2005-07-11 21:29:15                6       4863  \n",
      "1 2005-08-11 21:35:10                6      11433  \n",
      "2 2005-08-30 22:26:43                6      14714  \n",
      "3 2005-06-06 00:36:07                6        972  \n",
      "4 2005-06-23 17:45:00                6       2117  \n"
     ]
    }
   ],
   "source": [
    "### Fact data table\n",
    "fact_rent = pd.read_sql(\"\"\"SELECT customer_id, staff_id, inventory.film_id, category.name AS category, inventory.store_id, rental_date, return_date, SUM(rental_duration), rental_id\n",
    "                        FROM rental\n",
    "                        JOIN inventory on rental.inventory_id = inventory.inventory_id\n",
    "                        JOIN film on inventory.film_id = film.film_id\n",
    "                        JOIN film_category on  film.film_id = film_category.film_id\n",
    "                        JOIN category on film_category.category_id = category.category_id\n",
    "                        GROUP BY customer_id;\"\"\", db_engine)\n",
    "\n",
    "\n",
    "print(fact_rent.head())\n",
    "\n"
   ]
  },
  {
   "cell_type": "markdown",
   "metadata": {},
   "source": [
    "### 1.2.2 Dimensions"
   ]
  },
  {
   "cell_type": "code",
   "execution_count": 4,
   "metadata": {
    "scrolled": false
   },
   "outputs": [
    {
     "name": "stdout",
     "output_type": "stream",
     "text": [
      "   film_id            title rating language category\n",
      "0       19     AMADEUS HOLY     PG  English   Action\n",
      "1       21  AMERICAN CIRCUS      R  English   Action\n",
      "   customer_id  staff_id  film_id  store_id         rental_date  \\\n",
      "0          431         2        1         1 2005-07-08 19:03:15   \n",
      "1          518         1        1         1 2005-08-02 20:13:10   \n",
      "\n",
      "          return_date  rental_duration  rental_id  \n",
      "0 2005-07-11 21:29:15            114.0       4863  \n",
      "1 2005-08-11 21:35:10            124.0      11433  \n",
      "   staff_id  store_id    staff_name                         email\n",
      "0         1         1  Mike Hillyer  Mike.Hillyer@sakilastaff.com\n",
      "1         2         2  Jon Stephens  Jon.Stephens@sakilastaff.com\n",
      "   customer_id   customer_name  active        customer_address customer_city  \\\n",
      "0          218      VERA MCCOY       1  1168 Najafabad Parkway         Kabul   \n",
      "1          441  MARIO CHEATHAM       1  1924 Shimonoseki Drive         Batna   \n",
      "\n",
      "  customer_country  \n",
      "0      Afghanistan  \n",
      "1          Algeria  \n"
     ]
    }
   ],
   "source": [
    "### Dimension data table\n",
    "# What => Film\n",
    "dim_film = pd.read_sql(\"\"\"SELECT film.film_id, title, rating, language.name AS language, category.name AS category\n",
    "                            FROM film\n",
    "                            JOIN language on film.language_id = language.language_id\n",
    "                            JOIN film_category on  film.film_id = film_category.film_id\n",
    "                            JOIN category on film_category.category_id = category.category_id;\n",
    "                            \"\"\", db_engine)\n",
    "\n",
    "# Where => Store\n",
    "dim_store = pd.read_sql(\"\"\"SELECT customer_id, staff_id, inventory.film_id, inventory.store_id, rental_date, return_date, SUM(rental_duration) AS rental_duration, rental_id\n",
    "                        FROM rental\n",
    "                        JOIN inventory on rental.inventory_id = inventory.inventory_id\n",
    "                        JOIN film on inventory.film_id = film.film_id\n",
    "                        GROUP BY customer_id;\n",
    "                        \"\"\", db_engine)\n",
    "\n",
    "\n",
    "# Who => Staff\n",
    "dim_staff = pd.read_sql(\"\"\"SELECT staff_id,  store.store_id, CONCAT(first_name,' ', last_name) AS staff_name, email\n",
    "                         FROM staff\n",
    "                        JOIN store on staff.staff_id = store.manager_staff_id;\n",
    "                        \"\"\", db_engine)\n",
    "\n",
    "# Who => Customer\n",
    "dim_customer = pd.read_sql(\"\"\"SELECT customer_id, CONCAT(first_name,' ', last_name) AS customer_name, active, address AS customer_address, city AS customer_city, country AS customer_country\n",
    "                            FROM customer\n",
    "                            JOIN address on customer.address_id = address.address_id\n",
    "                            JOIN city on address.city_id = city.city_id\n",
    "                            JOIN country on city.country_id = country.country_id;\n",
    "                             \"\"\", db_engine)\n",
    "\n",
    "print(dim_film.head(2))\n",
    "print(dim_store.head(2))\n",
    "print(dim_staff.head(2))\n",
    "print(dim_customer.head(2))"
   ]
  },
  {
   "cell_type": "markdown",
   "metadata": {},
   "source": [
    "# 2. Machine Learning"
   ]
  },
  {
   "cell_type": "code",
   "execution_count": 12,
   "metadata": {},
   "outputs": [],
   "source": [
    "# Define training and test variable\n",
    "X = fact_rent[['film_id','store_id']]\n",
    "y = fact_rent['rental_duration']\n",
    "\n",
    "# Split into training and test set\n",
    "X_train, X_test, y_train, y_test = train_test_split(X, y, test_size = 0.3, random_state=0)"
   ]
  },
  {
   "cell_type": "markdown",
   "metadata": {},
   "source": [
    "## 2.1 k-Nearest Neighbors Algorithm"
   ]
  },
  {
   "cell_type": "code",
   "execution_count": 13,
   "metadata": {},
   "outputs": [
    {
     "name": "stdout",
     "output_type": "stream",
     "text": [
      "knn training score: 0.847255369928401\n",
      "knn test score: 0.7166666666666667\n"
     ]
    }
   ],
   "source": [
    "# Create a k-NN classifier\n",
    "knn = KNeighborsClassifier()\n",
    "\n",
    "# Fit the classifier to the data\n",
    "knn.fit(X_train, y_train)\n",
    "\n",
    "# Compute and print score\n",
    "print('knn training score: {}'.format(knn.score(X_train, y_train)))\n",
    "print('knn test score: {}'.format(knn.score(X_test, y_test)))"
   ]
  },
  {
   "cell_type": "markdown",
   "metadata": {},
   "source": [
    "## 2.2 Gradient Boosting regression"
   ]
  },
  {
   "cell_type": "code",
   "execution_count": 14,
   "metadata": {},
   "outputs": [
    {
     "name": "stdout",
     "output_type": "stream",
     "text": [
      "gbr training score: 0.708298502705627\n",
      "gbr test score: 0.5792198604170334\n"
     ]
    }
   ],
   "source": [
    "# Instantiate Gradient Boosting regression\n",
    "gbr = GradientBoostingRegressor(random_state=0)\n",
    "\n",
    "# Fit the classifier to the data\n",
    "gbr.fit(X_train, y_train)\n",
    "\n",
    "# Compute and print score\n",
    "print('gbr training score: {}'.format(gbr.score(X_train, y_train)))\n",
    "print('gbr test score: {}'.format(gbr.score(X_test, y_test)))"
   ]
  },
  {
   "cell_type": "code",
   "execution_count": null,
   "metadata": {},
   "outputs": [],
   "source": []
  }
 ],
 "metadata": {
  "kernelspec": {
   "display_name": "Python 3",
   "language": "python",
   "name": "python3"
  },
  "language_info": {
   "codemirror_mode": {
    "name": "ipython",
    "version": 3
   },
   "file_extension": ".py",
   "mimetype": "text/x-python",
   "name": "python",
   "nbconvert_exporter": "python",
   "pygments_lexer": "ipython3",
   "version": "3.7.3"
  }
 },
 "nbformat": 4,
 "nbformat_minor": 2
}
